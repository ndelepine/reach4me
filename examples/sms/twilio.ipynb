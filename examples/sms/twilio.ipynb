{
 "cells": [
  {
   "cell_type": "markdown",
   "metadata": {},
   "source": [
    "### Import libaries"
   ]
  },
  {
   "cell_type": "code",
   "execution_count": 1,
   "metadata": {},
   "outputs": [],
   "source": [
    "from reach4me.sms.twilio import TwilioHelper\n",
    "import os\n",
    "from dotenv import load_dotenv\n",
    "import sys\n",
    "import logging"
   ]
  },
  {
   "cell_type": "markdown",
   "metadata": {},
   "source": [
    "### Configure logger"
   ]
  },
  {
   "cell_type": "code",
   "execution_count": 2,
   "metadata": {},
   "outputs": [],
   "source": [
    "stdout_handler = logging.StreamHandler(stream=sys.stdout)\n",
    "handlers = [stdout_handler]\n",
    "\n",
    "logging.basicConfig(\n",
    "    level=logging.INFO, \n",
    "    format='[%(asctime)s] {%(filename)s:%(lineno)d} %(levelname)s - %(message)s',\n",
    "    handlers=handlers\n",
    ")"
   ]
  },
  {
   "cell_type": "markdown",
   "metadata": {},
   "source": [
    "### Send email"
   ]
  },
  {
   "cell_type": "code",
   "execution_count": 3,
   "metadata": {},
   "outputs": [
    {
     "name": "stdout",
     "output_type": "stream",
     "text": [
      "[2024-02-21 20:45:11,803] {__init__.py:63} INFO - Sending alert with <class 'reach4me.sms.twilio.TwilioHelper'> to +33123456789\n",
      "[2024-02-21 20:45:11,803] {__init__.py:56} INFO - -- BEGIN Twilio API Request --\n",
      "[2024-02-21 20:45:11,804] {__init__.py:66} INFO - POST Request: https://api.twilio.com/2010-04-01/Accounts/987654321/Messages.json\n",
      "[2024-02-21 20:45:11,805] {__init__.py:69} INFO - Headers:\n",
      "[2024-02-21 20:45:11,805] {__init__.py:73} INFO - User-Agent : twilio-python/8.13.0 (Darwin x86_64) Python/3.11.0\n",
      "[2024-02-21 20:45:11,805] {__init__.py:73} INFO - X-Twilio-Client : python-8.13.0\n",
      "[2024-02-21 20:45:11,806] {__init__.py:73} INFO - Accept-Charset : utf-8\n",
      "[2024-02-21 20:45:11,806] {__init__.py:73} INFO - Content-Type : application/x-www-form-urlencoded\n",
      "[2024-02-21 20:45:11,807] {__init__.py:73} INFO - Accept : application/json\n",
      "[2024-02-21 20:45:11,807] {__init__.py:75} INFO - -- END Twilio API Request --\n",
      "[2024-02-21 20:45:12,440] {__init__.py:81} INFO - Response Status Code: 201\n",
      "[2024-02-21 20:45:12,441] {__init__.py:82} INFO - Response Headers: {'Date': 'Wed, 21 Feb 2024 19:45:12 GMT', 'Content-Type': 'application/json; charset=utf-8', 'Content-Length': '773', 'Connection': 'keep-alive', 'Access-Control-Allow-Origin': '*', 'Access-Control-Allow-Headers': 'Accept, Authorization, Content-Type, If-Match, If-Modified-Since, If-None-Match, If-Unmodified-Since, Idempotency-Key', 'Access-Control-Allow-Credentials': 'true', 'Access-Control-Allow-Methods': 'GET, POST, DELETE, OPTIONS', 'Access-Control-Expose-Headers': 'ETag', 'Twilio-Request-Id': '123456789', 'Twilio-Request-Duration': '0.107', 'Twilio-Concurrent-Requests': '1', 'X-Shenanigans': 'none', 'X-Powered-By': 'AT-5000', 'X-Home-Region': 'us1', 'X-API-Domain': 'api.twilio.com'}\n"
     ]
    },
    {
     "data": {
      "text/plain": [
       "<Twilio.Api.V2010.MessageInstance account_sid=987654321 sid=123456789>"
      ]
     },
     "execution_count": 3,
     "metadata": {},
     "output_type": "execute_result"
    }
   ],
   "source": [
    "load_dotenv()\n",
    "\n",
    "# We create a OctopushHelper instance with the required fields\n",
    "alerting_client = TwilioHelper(sid=os.getenv(\"TWILIO_SID\", \"my_twilio_sid\"), token=os.getenv(\"TWILIO_TOKEN\", \"XXXX\"), sender=\"REACH4ME\")\n",
    "\n",
    "# We use the helper to send an sms with Octopush\n",
    "alerting_client.send(to=os.getenv(\"SMS_RECIPIENT\", \"+33123456789\"), msg=\"Hello World !\")\n"
   ]
  },
  {
   "cell_type": "code",
   "execution_count": null,
   "metadata": {},
   "outputs": [],
   "source": []
  }
 ],
 "metadata": {
  "kernelspec": {
   "display_name": "venv",
   "language": "python",
   "name": "python3"
  },
  "language_info": {
   "codemirror_mode": {
    "name": "ipython",
    "version": 3
   },
   "file_extension": ".py",
   "mimetype": "text/x-python",
   "name": "python",
   "nbconvert_exporter": "python",
   "pygments_lexer": "ipython3",
   "version": "3.11.0"
  }
 },
 "nbformat": 4,
 "nbformat_minor": 2
}
