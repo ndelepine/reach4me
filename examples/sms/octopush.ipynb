{
 "cells": [
  {
   "cell_type": "markdown",
   "metadata": {},
   "source": [
    "### Import libaries"
   ]
  },
  {
   "cell_type": "code",
   "execution_count": 1,
   "metadata": {},
   "outputs": [],
   "source": [
    "from reach4me.sms.octopush import OctopushHelper\n",
    "import os\n",
    "from dotenv import load_dotenv\n",
    "import sys\n",
    "import logging"
   ]
  },
  {
   "cell_type": "markdown",
   "metadata": {},
   "source": [
    "### Configure logger"
   ]
  },
  {
   "cell_type": "code",
   "execution_count": 2,
   "metadata": {},
   "outputs": [],
   "source": [
    "stdout_handler = logging.StreamHandler(stream=sys.stdout)\n",
    "handlers = [stdout_handler]\n",
    "\n",
    "logging.basicConfig(\n",
    "    level=logging.INFO, \n",
    "    format='[%(asctime)s] {%(filename)s:%(lineno)d} %(levelname)s - %(message)s',\n",
    "    handlers=handlers\n",
    ")"
   ]
  },
  {
   "cell_type": "markdown",
   "metadata": {},
   "source": [
    "### Send email"
   ]
  },
  {
   "cell_type": "code",
   "execution_count": 3,
   "metadata": {},
   "outputs": [
    {
     "name": "stdout",
     "output_type": "stream",
     "text": [
      "[2024-02-21 20:33:14,251] {__init__.py:63} INFO - Sending alert with <class 'reach4me.sms.octopush.OctopushHelper'> to +33123456789\n",
      "[2024-02-21 20:33:14,345] {octopush.py:100} INFO - You balance is of 14.50 cents\n",
      "[2024-02-21 20:33:14,345] {octopush.py:103} INFO - The sms will cost 4.50 cents\n"
     ]
    },
    {
     "data": {
      "text/plain": [
       "b'{\"sms_ticket\":\"sms_123456\",\"number_of_contacts\":1,\"total_cost\":0.045,\"number_of_sms_needed\":1,\"residual_credit\":0.10}'"
      ]
     },
     "execution_count": 3,
     "metadata": {},
     "output_type": "execute_result"
    }
   ],
   "source": [
    "load_dotenv()\n",
    "\n",
    "# We create a OctopushHelper instance with the required fields\n",
    "alerting_client = OctopushHelper(login=os.getenv(\"OCTOPUSH_LOGIN\", \"my_octopush@login.com\"), token=os.getenv(\"OCTOPUSH_TOKEN\", \"XXXX\"), sender=\"REACH4ME\")\n",
    "\n",
    "# We use the helper to send an sms with Octopush\n",
    "response = alerting_client.send(to=os.getenv(\"SMS_RECIPIENT\", \"+33123456789\"), msg=\"Hello World !\")\n",
    "\n",
    "response.content"
   ]
  },
  {
   "cell_type": "code",
   "execution_count": null,
   "metadata": {},
   "outputs": [],
   "source": []
  }
 ],
 "metadata": {
  "kernelspec": {
   "display_name": "venv",
   "language": "python",
   "name": "python3"
  },
  "language_info": {
   "codemirror_mode": {
    "name": "ipython",
    "version": 3
   },
   "file_extension": ".py",
   "mimetype": "text/x-python",
   "name": "python",
   "nbconvert_exporter": "python",
   "pygments_lexer": "ipython3",
   "version": "3.11.0"
  }
 },
 "nbformat": 4,
 "nbformat_minor": 2
}
